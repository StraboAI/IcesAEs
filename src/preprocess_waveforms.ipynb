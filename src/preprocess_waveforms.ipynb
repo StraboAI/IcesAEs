{
 "cells": [
  {
   "cell_type": "markdown",
   "metadata": {},
   "source": [
    "## Filter and align waveforms"
   ]
  },
  {
   "cell_type": "code",
   "execution_count": null,
   "metadata": {},
   "outputs": [],
   "source": [
    "import warnings\n",
    "\n",
    "import pandas as pd\n",
    "import numpy as np\n",
    "\n",
    "from utils import Dataset\n",
    "\n",
    "warnings.filterwarnings(\"ignore\")\n",
    "\n",
    "dataset = Dataset(\"../data/catalog.pkl\")\n",
    "print(f\"{len(dataset.catalog)} total events in catalog\")"
   ]
  },
  {
   "cell_type": "markdown",
   "metadata": {},
   "source": [
    "Filter out waveforms with high energy before the trigger"
   ]
  },
  {
   "cell_type": "code",
   "execution_count": null,
   "metadata": {},
   "outputs": [],
   "source": [
    "threshold = 15\n",
    "n = dataset.catalog.count()[\"expname\"]\n",
    "dataset.catalog = dataset.catalog[dataset.catalog[\"init_energy\"]<threshold]\n",
    "n1 = dataset.catalog.count()[\"expname\"]\n",
    "print(f\"{n-n1} events excluded with energy thresholding\")"
   ]
  },
  {
   "cell_type": "code",
   "execution_count": null,
   "metadata": {},
   "outputs": [],
   "source": [
    "# window around the trigger for training models\n",
    "w_min = 350\n",
    "w_max = 500"
   ]
  },
  {
   "cell_type": "code",
   "execution_count": null,
   "metadata": {},
   "outputs": [],
   "source": [
    "# remove low frequency noisy waveforms\n",
    "\n",
    "def zero_crossings(a):\n",
    "    n_ = np.where(np.diff(np.signbit(a)))[0]\n",
    "    return len(n_)\n",
    "\n",
    "dataset.catalog[\"ZeroCrossing_arrival\"] = dataset.catalog[\"normedwaves\"].apply(lambda x: zero_crossings(x[w_min:w_max]))\n",
    "\n",
    "zerocross_thresh = 5\n",
    "dataset.catalog = dataset.catalog[dataset.catalog[\"ZeroCrossing_arrival\"]>zerocross_thresh]\n",
    "n2 = dataset.catalog.count()[\"expname\"]\n",
    "print(f\"{n1-n2} events excluded with zero crossing processing\")\n",
    "print(f\"Total kept {n2}\")"
   ]
  },
  {
   "cell_type": "code",
   "execution_count": null,
   "metadata": {},
   "outputs": [],
   "source": [
    "pd.DataFrame(dataset.catalog.groupby(\"expname\").count()[\"waveforms\"])"
   ]
  },
  {
   "cell_type": "code",
   "execution_count": null,
   "metadata": {},
   "outputs": [],
   "source": [
    "# realign waveforms to first peak after trigger\n",
    "\n",
    "offsets = dataset.catalog.normedwaves.apply(lambda x: np.argmax(x[350+45:350+60]))\n",
    "\n",
    "alignedwaves = []\n",
    "for i, offset in enumerate(offsets):\n",
    "    alignedwaves.append(np.roll(dataset.catalog.normedwaves.iloc[i], -offset))\n",
    "\n",
    "dataset.catalog[\"alignedwaves\"] = alignedwaves"
   ]
  },
  {
   "cell_type": "code",
   "execution_count": null,
   "metadata": {},
   "outputs": [],
   "source": [
    "# save \n",
    "dataset.catalog.to_pickle(\"../data/final_filtered_catalog_for_model_training_and_eval.pkl\")"
   ]
  },
  {
   "cell_type": "code",
   "execution_count": null,
   "metadata": {},
   "outputs": [],
   "source": []
  }
 ],
 "metadata": {
  "kernelspec": {
   "display_name": "Python 3.9.9 ('AE_pipeline')",
   "language": "python",
   "name": "python3"
  },
  "language_info": {
   "codemirror_mode": {
    "name": "ipython",
    "version": 3
   },
   "file_extension": ".py",
   "mimetype": "text/x-python",
   "name": "python",
   "nbconvert_exporter": "python",
   "pygments_lexer": "ipython3",
   "version": "3.9.9"
  },
  "orig_nbformat": 4,
  "vscode": {
   "interpreter": {
    "hash": "54a015295a2a7ccdef8df99cf8d30eefc902137aba3756620e70516a1c475ac3"
   }
  }
 },
 "nbformat": 4,
 "nbformat_minor": 2
}
