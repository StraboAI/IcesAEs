{
 "cells": [
  {
   "cell_type": "markdown",
   "metadata": {},
   "source": [
    "# Code to generate figures for paper"
   ]
  },
  {
   "cell_type": "code",
   "execution_count": null,
   "metadata": {},
   "outputs": [],
   "source": [
    "%matplotlib inline\n",
    "import matplotlib.pyplot as plt\n",
    "import seaborn as sns\n",
    "import pandas as pd\n",
    "import numpy as np\n",
    "\n",
    "sns.set_context(\"talk\")\n",
    "\n",
    "plt.rcParams[\"font.family\"] = \"Times New Roman\""
   ]
  },
  {
   "cell_type": "markdown",
   "metadata": {},
   "source": [
    "## Figure 2"
   ]
  },
  {
   "cell_type": "code",
   "execution_count": null,
   "metadata": {},
   "outputs": [],
   "source": [
    "catalog = pd.read_pickle(\"../data/final_filtered_catalog_for_model_training_and_eval.pkl\")\n",
    "rock_exp_nums = list(set(catalog[catalog.substrate==\"rock\"][\"expname\"]))\n",
    "till_exp_nums = list(set(catalog[catalog.substrate==\"till\"][\"expname\"]))"
   ]
  },
  {
   "cell_type": "code",
   "execution_count": null,
   "metadata": {},
   "outputs": [],
   "source": [
    "f, ax = plt.subplots(7,2,figsize=(15,35))\n",
    "\n",
    "ax[0,0].pcolormesh(\n",
    "    np.stack(catalog[catalog.labels==0][\"alignedwaves\"].values)[:,350:500],\n",
    "    vmin=-1,\n",
    "    vmax=1,\n",
    "    cmap=\"seismic\"\n",
    "    )\n",
    "ax[0,0].set_title(\"Rock\", fontsize=35)\n",
    "ax[0,0].set_xticks([0,50,100,150])\n",
    "ax[0,0].set_xticklabels([0,5,10,15])\n",
    "ax[0,0].set_xlabel(\"Time (microseconds)\")\n",
    "ax[0,0].set_ylabel(\"Waveform number\")\n",
    "\n",
    "ax[0,1].pcolormesh(\n",
    "    np.stack(catalog[catalog.labels==1][\"alignedwaves\"].values)[:,350:500],\n",
    "    vmin=-1,\n",
    "    vmax=1,\n",
    "    cmap=\"seismic\"\n",
    "    )\n",
    "ax[0,1].set_title(\"Till\", fontsize=35)\n",
    "ax[0,1].set_xticks([0,50,100,150])\n",
    "ax[0,1].set_xticklabels([0,5,10,15])\n",
    "ax[0,1].set_xlabel(\"Time (microseconds)\")\n",
    "ax[0,1].set_ylabel(\"Waveform number\")\n",
    "\n",
    "for i, num in enumerate(sorted(rock_exp_nums)):\n",
    "    i+=1\n",
    "    waves = np.stack(catalog[catalog.expname==num][\"alignedwaves\"].values)[:,350:500]\n",
    "    for wave in waves:\n",
    "        ax[i][0].plot(wave, c=\"red\", alpha=0.05)\n",
    "        ax[i][0].set_ylabel(\"Normalized amplitude\")\n",
    "        #ax[i][0].get_xaxis().set_visible(False)\n",
    "        #ax[i][0].get_yaxis().set_visible(False)\n",
    "        ax[i,0].set_xlim([0,150])\n",
    "        ax[i,0].set_xticks([0,50,100,150])\n",
    "        ax[i,0].set_xticklabels([0,5,10,15])\n",
    "        ax[i,0].set_xlabel(\"Time (microseconds)\")\n",
    "        ax[i,0].text(5, 0.8, num, fontsize=20)\n",
    "\n",
    "for i, num in enumerate(sorted(till_exp_nums)):\n",
    "    i+=1\n",
    "    waves = np.stack(catalog[catalog.expname==num][\"alignedwaves\"].values)[:,350:500]\n",
    "    for wave in waves:\n",
    "        ax[i][1].plot(wave, c=\"teal\", alpha=0.05)\n",
    "        ax[i][1].set_ylabel(\"Normalized amplitude\")\n",
    "        #ax[i][1].get_xaxis().set_visible(False)\n",
    "        #ax[i][1].get_yaxis().set_visible(False)\n",
    "        ax[i,1].set_xlim([0,150])\n",
    "        ax[i,1].set_xticks([0,50,100,150])\n",
    "        ax[i,1].set_xticklabels([0,5,10,15])\n",
    "        ax[i,1].set_xlabel(\"Time (microseconds)\")\n",
    "        ax[i,1].text(5, 0.8, num, fontsize=20)\n",
    "\n",
    "plt.tight_layout()\n",
    "#plt.savefig(\"../figures/figure2.png\",format=\"png\")\n",
    "plt.show()"
   ]
  },
  {
   "cell_type": "markdown",
   "metadata": {},
   "source": [
    "## Figure 3"
   ]
  },
  {
   "cell_type": "code",
   "execution_count": null,
   "metadata": {},
   "outputs": [],
   "source": [
    "res = pd.read_pickle(\"../data/train_test_results.pkl\")\n",
    "acc_by_testexps = pd.DataFrame(res.groupby(\"test_exps\")[\"balanced_accuracy\"].mean()).reset_index()\n",
    "acc_by_test_exp = res.groupby(\"run_number\").aggregate(\n",
    "    {\n",
    "        \"balanced_accuracy\": np.mean,\n",
    "        \"till_test_exp\": lambda x: list(x)[0],\n",
    "        \"rock_test_exp\": lambda x: list(x)[0]\n",
    "    }\n",
    ")\n",
    "acc_by_test_exp = acc_by_test_exp.pivot(index=\"till_test_exp\", columns=\"rock_test_exp\", values=\"balanced_accuracy\")"
   ]
  },
  {
   "cell_type": "code",
   "execution_count": null,
   "metadata": {},
   "outputs": [],
   "source": [
    "plt.figure(figsize=(9,7))\n",
    "sns.heatmap(\n",
    "    acc_by_test_exp,\n",
    "    cmap=\"seismic\",\n",
    "    vmin=0, vmax=1,\n",
    "    annot=True, fmt=\".2f\"\n",
    ")\n",
    "plt.title(\"Mean accuracy by test set experiment pair\", fontsize=25, wrap=True)\n",
    "plt.ylabel(\"Till experiment #\", fontsize=20)\n",
    "plt.xlabel(\"Rock experiment #\", fontsize=20)\n",
    "#plt.savefig(\"../figures/figure3.png\",format=\"png\")\n",
    "plt.show()"
   ]
  },
  {
   "cell_type": "markdown",
   "metadata": {},
   "source": [
    "## Figure 4"
   ]
  },
  {
   "cell_type": "code",
   "execution_count": null,
   "metadata": {},
   "outputs": [],
   "source": [
    "importances = np.stack(\n",
    "    res.classifier.apply(lambda x: x.feature_importances_)\n",
    ")"
   ]
  },
  {
   "cell_type": "code",
   "execution_count": null,
   "metadata": {},
   "outputs": [],
   "source": [
    "f, ax = plt.subplots(2,1,figsize=(10,7), sharex=True)\n",
    "plt.suptitle(\"Random Forest feature importances\")\n",
    "\n",
    "ninetieth = np.quantile(importances, 0.9,axis=0)\n",
    "tenth = np.quantile(importances, 0.1, axis=0)\n",
    "ax[0].fill_between(\n",
    "    x=range(ninetieth.shape[0]),\n",
    "    y1=ninetieth,\n",
    "    y2=tenth,\n",
    "    color=\"black\",\n",
    "    alpha=0.25\n",
    ")\n",
    "ax[0].plot(np.quantile(importances, 0.9,axis=0),\"k\", alpha=0.5, label=\"90th percentile\")\n",
    "ax[0].plot(np.quantile(importances, 0.1, axis=0),\"k\", alpha=0.5, label=\"10th percentile\")\n",
    "ax[0].plot(np.stack(importances).mean(axis=0),\"k\", label=\"mean\")\n",
    "ax[0].legend()\n",
    "ax[0].set_ylabel(\"Feature importance\")\n",
    "\n",
    "for wave in catalog[catalog.labels==0][\"alignedwaves\"]:\n",
    "    ax[1].plot(wave[350:500], \"teal\", alpha=0.01)\n",
    "for wave in catalog[catalog.labels==1][\"alignedwaves\"]:\n",
    "    ax[1].plot(wave[350:500], \"red\", alpha=0.01)\n",
    "ax[1].set_ylabel(\"Normalized amplitude\")\n",
    "ax[1].set_xticks(np.arange(0,150,10))\n",
    "ax[1].set_xticklabels(np.arange(0,15,))\n",
    "\n",
    "\n",
    "plt.xlabel(\"Time (microseconds)\")\n",
    "plt.tight_layout()\n",
    "#plt.savefig(\"../figures/figure4.png\",format=\"png\")\n",
    "plt.show()"
   ]
  }
 ],
 "metadata": {
  "kernelspec": {
   "display_name": "Python 3.8.12",
   "language": "python",
   "name": "python3"
  },
  "language_info": {
   "codemirror_mode": {
    "name": "ipython",
    "version": 3
   },
   "file_extension": ".py",
   "mimetype": "text/x-python",
   "name": "python",
   "nbconvert_exporter": "python",
   "pygments_lexer": "ipython3",
   "version": "3.8.12"
  },
  "orig_nbformat": 4,
  "vscode": {
   "interpreter": {
    "hash": "32df882750e63f38fe9bae922ab11b28c0363dc0e698c9608b6505e1a44d67c8"
   }
  }
 },
 "nbformat": 4,
 "nbformat_minor": 2
}
